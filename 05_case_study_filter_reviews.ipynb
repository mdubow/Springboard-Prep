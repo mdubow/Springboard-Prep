{
 "cells": [
  {
   "cell_type": "markdown",
   "metadata": {},
   "source": [
    "# Extracting desired business reviews\n",
    "In the last notebook we achieved two things. Firstly, we identified the business categories (Italian/Pizza) that our campaign was going to target. Secondly, we identified business IDs associated with those categories. Knowing the business IDs allows us to select just the reviews of interest from the reviews file. Before you go rushing into reading the review data into one big dataframe to then filter just those IDs of interest, as a data scientist you will have first got an idea of the size of the file. The review file is pretty big (nearly six million lines). Unless you have a very good computer with lots of RAM, or you particularly want to fire up your system/memory monitor and watch the free memory fall further and further until your computer seizes, you should be thinking in terms of how to read in only the lines of interest. This way, you only consume the minimum RAM necessary. Of course, in general, even then you should be making some sort of calculation as to whether even this would be within the capabilities of your hardware. In this case, it should be doable for most modernish computers. The task of this notebook is to parse the review data file and save the (much smaller) subset of interest."
   ]
  },
  {
   "cell_type": "code",
   "execution_count": 1,
   "metadata": {},
   "outputs": [],
   "source": [
    "# import the required libraries here\n",
    "import pandas as pd\n",
    "import matplotlib.pyplot as plt"
   ]
  },
  {
   "cell_type": "markdown",
   "metadata": {},
   "source": [
    "## List of required business IDs\n",
    "First we need to read in the list of business IDs we obtained previously."
   ]
  },
  {
   "cell_type": "code",
   "execution_count": 2,
   "metadata": {},
   "outputs": [],
   "source": [
    "# task: read in our previously created file that contains the business IDs of interest\n",
    "# one line\n",
    "businesses = pd.read_csv('italian_pizza.csv')"
   ]
  },
  {
   "cell_type": "markdown",
   "metadata": {},
   "source": [
    "It's a good idea to have a quick check first."
   ]
  },
  {
   "cell_type": "code",
   "execution_count": 3,
   "metadata": {},
   "outputs": [
    {
     "data": {
      "text/html": [
       "<div>\n",
       "<style scoped>\n",
       "    .dataframe tbody tr th:only-of-type {\n",
       "        vertical-align: middle;\n",
       "    }\n",
       "\n",
       "    .dataframe tbody tr th {\n",
       "        vertical-align: top;\n",
       "    }\n",
       "\n",
       "    .dataframe thead th {\n",
       "        text-align: right;\n",
       "    }\n",
       "</style>\n",
       "<table border=\"1\" class=\"dataframe\">\n",
       "  <thead>\n",
       "    <tr style=\"text-align: right;\">\n",
       "      <th></th>\n",
       "      <th>business_id</th>\n",
       "      <th>review_count</th>\n",
       "      <th>stars</th>\n",
       "      <th>state</th>\n",
       "    </tr>\n",
       "  </thead>\n",
       "  <tbody>\n",
       "    <tr>\n",
       "      <th>0</th>\n",
       "      <td>fweCYi8FmbJXHCqLnwuk8w</td>\n",
       "      <td>16</td>\n",
       "      <td>4.0</td>\n",
       "      <td>OH</td>\n",
       "    </tr>\n",
       "    <tr>\n",
       "      <th>1</th>\n",
       "      <td>PZ-LZzSlhSe9utkQYU8pFg</td>\n",
       "      <td>40</td>\n",
       "      <td>4.0</td>\n",
       "      <td>NV</td>\n",
       "    </tr>\n",
       "    <tr>\n",
       "      <th>2</th>\n",
       "      <td>BvYU3jvGd0TJ7IyZdfiN2Q</td>\n",
       "      <td>16</td>\n",
       "      <td>3.5</td>\n",
       "      <td>NC</td>\n",
       "    </tr>\n",
       "    <tr>\n",
       "      <th>3</th>\n",
       "      <td>PkDghu4aan2_wxrhXjTEgg</td>\n",
       "      <td>16</td>\n",
       "      <td>3.5</td>\n",
       "      <td>AB</td>\n",
       "    </tr>\n",
       "    <tr>\n",
       "      <th>4</th>\n",
       "      <td>RFbMVekR8lU9tPJ8sWrwHg</td>\n",
       "      <td>18</td>\n",
       "      <td>4.0</td>\n",
       "      <td>ON</td>\n",
       "    </tr>\n",
       "  </tbody>\n",
       "</table>\n",
       "</div>"
      ],
      "text/plain": [
       "              business_id  review_count  stars state\n",
       "0  fweCYi8FmbJXHCqLnwuk8w            16    4.0    OH\n",
       "1  PZ-LZzSlhSe9utkQYU8pFg            40    4.0    NV\n",
       "2  BvYU3jvGd0TJ7IyZdfiN2Q            16    3.5    NC\n",
       "3  PkDghu4aan2_wxrhXjTEgg            16    3.5    AB\n",
       "4  RFbMVekR8lU9tPJ8sWrwHg            18    4.0    ON"
      ]
     },
     "execution_count": 3,
     "metadata": {},
     "output_type": "execute_result"
    }
   ],
   "source": [
    "businesses.head()"
   ]
  },
  {
   "cell_type": "markdown",
   "metadata": {},
   "source": [
    "We want to grab just the business_id column as a list. It's worth also then double checking it matches the business_id column above."
   ]
  },
  {
   "cell_type": "code",
   "execution_count": 4,
   "metadata": {},
   "outputs": [
    {
     "name": "stdout",
     "output_type": "stream",
     "text": [
      "['fweCYi8FmbJXHCqLnwuk8w' 'PZ-LZzSlhSe9utkQYU8pFg'\n",
      " 'BvYU3jvGd0TJ7IyZdfiN2Q' 'PkDghu4aan2_wxrhXjTEgg'\n",
      " 'RFbMVekR8lU9tPJ8sWrwHg']\n"
     ]
    }
   ],
   "source": [
    "business_ids = businesses['business_id'].values\n",
    "print(business_ids[:5])"
   ]
  },
  {
   "cell_type": "markdown",
   "metadata": {},
   "source": [
    "## Filtering a large data file in chunks\n",
    "The review data file comprises some nearly 6 million lines. We don't want all of those lines. Our general approach will be to read through the file and check the business_id in each row. If this ID is contained in our list of wanted IDs, we will keep that row. It will be fastest, but most expensive for memory, to read the entire file from disk in one go and then filter the rows in memory. At the other extreme it will be most memory efficient to read in one record at a time, check whether we want it or not (and discard if not), but slowest. We will strike a balance where we choose a sufficiently large chunksize that still fits easily in memory but whereby we don't need to read in too many chunks."
   ]
  },
  {
   "cell_type": "code",
   "execution_count": 21,
   "metadata": {},
   "outputs": [],
   "source": [
    "# For convenience here, again we are accessing the data in the working directory that contains our notebooks.\n",
    "# Normal best practise is to keep your data separate, but this keeps things simple here.\n",
    "# If you're comfortable specifying a filepath to files outside of this working directory, then feel free to do so.\n",
    "# task: create a reader object for the review json file\n",
    "# Hint: use lines=True as before but add the chunksize=100000 parameter\n",
    "# one line of code here\n",
    "review_reader = pd.read_json('review.json', lines = True, chunksize = 100000)\n"
   ]
  },
  {
   "cell_type": "markdown",
   "metadata": {},
   "source": [
    "We use the time magic for the next cell, out of interest, to time how long it takes. If you have the time and are curious, you're welcome to play around with the chunksize and monitor your system memory use and the time this cell takes, but _caveat emptor_! I suggest you save your notebook before running this cell, just in case."
   ]
  },
  {
   "cell_type": "code",
   "execution_count": 23,
   "metadata": {},
   "outputs": [
    {
     "name": "stdout",
     "output_type": "stream",
     "text": [
      "Wall time: 32min 58s\n"
     ]
    }
   ],
   "source": [
    "%%time\n",
    "# task: process the file one chunk at a time,\n",
    "# filter that chunk for rows with a business_id in business_ids\n",
    "# You can either do this within in a loop, having initialized an empty list,\n",
    "# or using a more pythonic list comprehension\n",
    "reviews = [y.loc[y.business_id.apply(lambda x: x in business_ids)] for y in review_reader]\n",
    "#review = []\n",
    "# for x in review_reader:\n",
    "# for y in business_ids:\n",
    "# x['business_id'].append(y)\n",
    "# return x['business_id']\n",
    "# (this took some 24 minutes on my old i7)"
   ]
  },
  {
   "cell_type": "markdown",
   "metadata": {},
   "source": [
    "All being well, you now have the desired reviews read in. But we don't yet have them in a convenient DataFrame:"
   ]
  },
  {
   "cell_type": "code",
   "execution_count": 24,
   "metadata": {},
   "outputs": [
    {
     "data": {
      "text/plain": [
       "list"
      ]
     },
     "execution_count": 24,
     "metadata": {},
     "output_type": "execute_result"
    }
   ],
   "source": [
    "type(reviews)"
   ]
  },
  {
   "cell_type": "code",
   "execution_count": 25,
   "metadata": {},
   "outputs": [
    {
     "data": {
      "text/plain": [
       "66"
      ]
     },
     "execution_count": 25,
     "metadata": {},
     "output_type": "execute_result"
    }
   ],
   "source": [
    "len(reviews)"
   ]
  },
  {
   "cell_type": "markdown",
   "metadata": {},
   "source": [
    "Convert your reviews into a DataFrame now. _Hint: you may find pandas concat method useful here._"
   ]
  },
  {
   "cell_type": "code",
   "execution_count": 26,
   "metadata": {},
   "outputs": [],
   "source": [
    "# task convert your reviews into a DataFrame\n",
    "# one line of code here\n",
    "reviews = pd.concat(reviews)"
   ]
  },
  {
   "cell_type": "code",
   "execution_count": 27,
   "metadata": {},
   "outputs": [
    {
     "data": {
      "text/plain": [
       "(586699, 9)"
      ]
     },
     "execution_count": 27,
     "metadata": {},
     "output_type": "execute_result"
    }
   ],
   "source": [
    "reviews.shape"
   ]
  },
  {
   "cell_type": "code",
   "execution_count": 28,
   "metadata": {},
   "outputs": [
    {
     "data": {
      "text/html": [
       "<div>\n",
       "<style scoped>\n",
       "    .dataframe tbody tr th:only-of-type {\n",
       "        vertical-align: middle;\n",
       "    }\n",
       "\n",
       "    .dataframe tbody tr th {\n",
       "        vertical-align: top;\n",
       "    }\n",
       "\n",
       "    .dataframe thead th {\n",
       "        text-align: right;\n",
       "    }\n",
       "</style>\n",
       "<table border=\"1\" class=\"dataframe\">\n",
       "  <thead>\n",
       "    <tr style=\"text-align: right;\">\n",
       "      <th></th>\n",
       "      <th>business_id</th>\n",
       "      <th>cool</th>\n",
       "      <th>date</th>\n",
       "      <th>funny</th>\n",
       "      <th>review_id</th>\n",
       "      <th>stars</th>\n",
       "      <th>text</th>\n",
       "      <th>useful</th>\n",
       "      <th>user_id</th>\n",
       "    </tr>\n",
       "  </thead>\n",
       "  <tbody>\n",
       "    <tr>\n",
       "      <th>100006</th>\n",
       "      <td>a0v7Si0DK4cIko7AQY4YXg</td>\n",
       "      <td>0</td>\n",
       "      <td>2018-04-05 19:18:02</td>\n",
       "      <td>0</td>\n",
       "      <td>BwoZqgwvDZ3AyHcqJDus4A</td>\n",
       "      <td>5</td>\n",
       "      <td>I'm here at least once a week. This location i...</td>\n",
       "      <td>1</td>\n",
       "      <td>p4qC9hDxk3wwPa3EUwhuKQ</td>\n",
       "    </tr>\n",
       "    <tr>\n",
       "      <th>100025</th>\n",
       "      <td>EyPDvFnc8Jh1kAZZMHoApQ</td>\n",
       "      <td>0</td>\n",
       "      <td>2016-02-14 04:07:46</td>\n",
       "      <td>0</td>\n",
       "      <td>Txviop71rAsRKl0Div9sew</td>\n",
       "      <td>1</td>\n",
       "      <td>I didn't apparently get the entire \"MOD Experi...</td>\n",
       "      <td>0</td>\n",
       "      <td>8QxEkytfVLIgkmnnEXVw0Q</td>\n",
       "    </tr>\n",
       "    <tr>\n",
       "      <th>100026</th>\n",
       "      <td>tjAeaGdxf7I4xN9M7wGJNQ</td>\n",
       "      <td>0</td>\n",
       "      <td>2018-01-11 05:31:34</td>\n",
       "      <td>0</td>\n",
       "      <td>CYoUdBiSw5Ji7PE8PrGfKw</td>\n",
       "      <td>5</td>\n",
       "      <td>I ordered the lunch special ( any one topping ...</td>\n",
       "      <td>1</td>\n",
       "      <td>NF3vUYgz6DFd8YPQmzB1WQ</td>\n",
       "    </tr>\n",
       "    <tr>\n",
       "      <th>100033</th>\n",
       "      <td>scoJNOqcw2peNlO31UYTaA</td>\n",
       "      <td>0</td>\n",
       "      <td>2013-05-12 01:50:22</td>\n",
       "      <td>1</td>\n",
       "      <td>yUAuey_JVSK64JtFrFr-Uw</td>\n",
       "      <td>4</td>\n",
       "      <td>$7.00 for a \"create your own\" pizza? Yes pleas...</td>\n",
       "      <td>2</td>\n",
       "      <td>vPOkQJKahhR13LQ2ElSFGg</td>\n",
       "    </tr>\n",
       "    <tr>\n",
       "      <th>100041</th>\n",
       "      <td>0h5yI6np7weAVH0jsjHqPw</td>\n",
       "      <td>0</td>\n",
       "      <td>2015-02-05 02:35:03</td>\n",
       "      <td>0</td>\n",
       "      <td>3VCIP8tX2zx6jnh0b0uC2Q</td>\n",
       "      <td>2</td>\n",
       "      <td>I really wanted to give this place more stars ...</td>\n",
       "      <td>0</td>\n",
       "      <td>OW0PZxoGFGSOthAmN_cSUg</td>\n",
       "    </tr>\n",
       "  </tbody>\n",
       "</table>\n",
       "</div>"
      ],
      "text/plain": [
       "                   business_id  cool                date  funny  \\\n",
       "100006  a0v7Si0DK4cIko7AQY4YXg     0 2018-04-05 19:18:02      0   \n",
       "100025  EyPDvFnc8Jh1kAZZMHoApQ     0 2016-02-14 04:07:46      0   \n",
       "100026  tjAeaGdxf7I4xN9M7wGJNQ     0 2018-01-11 05:31:34      0   \n",
       "100033  scoJNOqcw2peNlO31UYTaA     0 2013-05-12 01:50:22      1   \n",
       "100041  0h5yI6np7weAVH0jsjHqPw     0 2015-02-05 02:35:03      0   \n",
       "\n",
       "                     review_id  stars  \\\n",
       "100006  BwoZqgwvDZ3AyHcqJDus4A      5   \n",
       "100025  Txviop71rAsRKl0Div9sew      1   \n",
       "100026  CYoUdBiSw5Ji7PE8PrGfKw      5   \n",
       "100033  yUAuey_JVSK64JtFrFr-Uw      4   \n",
       "100041  3VCIP8tX2zx6jnh0b0uC2Q      2   \n",
       "\n",
       "                                                     text  useful  \\\n",
       "100006  I'm here at least once a week. This location i...       1   \n",
       "100025  I didn't apparently get the entire \"MOD Experi...       0   \n",
       "100026  I ordered the lunch special ( any one topping ...       1   \n",
       "100033  $7.00 for a \"create your own\" pizza? Yes pleas...       2   \n",
       "100041  I really wanted to give this place more stars ...       0   \n",
       "\n",
       "                       user_id  \n",
       "100006  p4qC9hDxk3wwPa3EUwhuKQ  \n",
       "100025  8QxEkytfVLIgkmnnEXVw0Q  \n",
       "100026  NF3vUYgz6DFd8YPQmzB1WQ  \n",
       "100033  vPOkQJKahhR13LQ2ElSFGg  \n",
       "100041  OW0PZxoGFGSOthAmN_cSUg  "
      ]
     },
     "execution_count": 28,
     "metadata": {},
     "output_type": "execute_result"
    }
   ],
   "source": [
    "reviews.head()"
   ]
  },
  {
   "cell_type": "markdown",
   "metadata": {},
   "source": [
    "## Save the output\n",
    "Having done all this hard work filtering our review file, and documenting the process in this notebook, we need to save the output. Go ahead and save the reviews DataFrame to a csv called 'reviews_filtered.csv'."
   ]
  },
  {
   "cell_type": "code",
   "execution_count": 30,
   "metadata": {},
   "outputs": [],
   "source": [
    "# task: save the DataFrame to the specified file now.\n",
    "# don't forget to use index=False\n",
    "reviews.to_csv('reviews_filtered.csv', index=False)"
   ]
  },
  {
   "cell_type": "markdown",
   "metadata": {},
   "source": [
    "If you inspect the file listing for the original json file and our new csv file, you should see we've gone from around 4.4 GB down to 325 MB. This is much more manageable!"
   ]
  },
  {
   "cell_type": "markdown",
   "metadata": {},
   "source": [
    "# Summary\n",
    "Great work! So far in our project you've seen how to break a problem down and identify relevant data, use data to gain insight and make a decision, and then leverage that knowledge to extract a desired subset of data from an otherwise unmanageable larger file. In the next notebook we'll dive into this data."
   ]
  }
 ],
 "metadata": {
  "kernelspec": {
   "display_name": "Python 3",
   "language": "python",
   "name": "python3"
  },
  "language_info": {
   "codemirror_mode": {
    "name": "ipython",
    "version": 3
   },
   "file_extension": ".py",
   "mimetype": "text/x-python",
   "name": "python",
   "nbconvert_exporter": "python",
   "pygments_lexer": "ipython3",
   "version": "3.7.3"
  }
 },
 "nbformat": 4,
 "nbformat_minor": 2
}
